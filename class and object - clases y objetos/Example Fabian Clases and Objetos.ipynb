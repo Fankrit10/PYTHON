{
 "cells": [
  {
   "cell_type": "markdown",
   "id": "b53a1eff",
   "metadata": {},
   "source": [
    "Elaborado por Fabian Niño"
   ]
  },
  {
   "cell_type": "code",
   "execution_count": 3,
   "id": "f36a37bf",
   "metadata": {},
   "outputs": [],
   "source": [
    "#importamos la libreria para dibujar\n",
    "import matplotlib.pyplot as plt\n",
    "\n"
   ]
  },
  {
   "cell_type": "code",
   "execution_count": 4,
   "id": "c254ed78",
   "metadata": {},
   "outputs": [],
   "source": [
    "%matplotlib inline"
   ]
  },
  {
   "cell_type": "code",
   "execution_count": 16,
   "id": "b6eac6eb",
   "metadata": {},
   "outputs": [],
   "source": [
    "# creamos la clase para el objeto\n",
    "class circulo(object):\n",
    "    def _init_(self,radius=3,color=\"blue\"):\n",
    "        self.radius = radius\n",
    "        self.color = color\n",
    "    \n",
    "    def add_rad(self,r):\n",
    "        self.radius = self.radius + r\n",
    "        return (self.radius)\n",
    "    def dibujar(self):\n",
    "        plt.gca().add_patch(plt.circulo((0,0),radius=self.radius, fc=self.color))\n",
    "        "
   ]
  },
  {
   "cell_type": "code",
   "execution_count": 17,
   "id": "74253ca5",
   "metadata": {},
   "outputs": [
    {
     "data": {
      "image/png": "[encoded data removed]",
      "text/plain": [
       "<Figure size 432x288 with 1 Axes>"
      ]
     },
     "metadata": {
      "needs_background": "light"
     },
     "output_type": "display_data"
    }
   ],
   "source": [
    "# dibujar\n",
    "plt.axis(\"scaled\")\n",
    "plt.show()"
   ]
  },
  {
   "cell_type": "code",
   "execution_count": 23,
   "id": "743e0f45",
   "metadata": {},
   "outputs": [],
   "source": [
    "# Create a class Circle\n",
    "\n",
    "class Circle(object):\n",
    "    \n",
    "    # Constructor\n",
    "    def __init__(self, radius=3, color='blue'):\n",
    "        self.radius = radius\n",
    "        self.color = color \n",
    "    \n",
    "    # Method\n",
    "    def add_radius(self, r):\n",
    "        self.radius = self.radius + r\n",
    "        return(self.radius)\n",
    "    \n",
    "    # Method\n",
    "    def drawCircle(self):\n",
    "        plt.gca().add_patch(plt.Circle((0, 0), radius=self.radius, fc=self.color))\n",
    "        plt.axis('scaled')\n",
    "        plt.show()  \n",
    "    # Create an object RedCircle\n",
    "\n",
    "RedCircle = Circle(10, 'red')"
   ]
  },
  {
   "cell_type": "code",
   "execution_count": 28,
   "id": "1eec5d63",
   "metadata": {},
   "outputs": [
    {
     "data": {
      "text/plain": [
       "10"
      ]
     },
     "execution_count": 28,
     "metadata": {},
     "output_type": "execute_result"
    }
   ],
   "source": [
    "#mostrar atributos\n",
    "RedCircle.radius"
   ]
  },
  {
   "cell_type": "code",
   "execution_count": 29,
   "id": "7f8b7cff",
   "metadata": {},
   "outputs": [
    {
     "data": {
      "text/plain": [
       "'red'"
      ]
     },
     "execution_count": 29,
     "metadata": {},
     "output_type": "execute_result"
    }
   ],
   "source": [
    "#mostrar atributos\n",
    "RedCircle.color"
   ]
  },
  {
   "cell_type": "code",
   "execution_count": 33,
   "id": "56b013b6",
   "metadata": {},
   "outputs": [],
   "source": [
    "#mostrar atributos\n",
    "RedCircle.radius=13"
   ]
  },
  {
   "cell_type": "code",
   "execution_count": 34,
   "id": "f6537a57",
   "metadata": {},
   "outputs": [
    {
     "data": {
      "text/plain": [
       "13"
      ]
     },
     "execution_count": 34,
     "metadata": {},
     "output_type": "execute_result"
    }
   ],
   "source": [
    "#mostrar atributos\n",
    "RedCircle.radius"
   ]
  },
  {
   "cell_type": "code",
   "execution_count": 35,
   "id": "33c8e33b",
   "metadata": {},
   "outputs": [
    {
     "data": {
      "image/png": "[encoded data removed]",
      "text/plain": [
       "<Figure size 432x288 with 1 Axes>"
      ]
     },
     "metadata": {
      "needs_background": "light"
     },
     "output_type": "display_data"
    }
   ],
   "source": [
    "#Dibujar\n",
    "RedCircle.drawCircle()"
   ]
  },
  {
   "cell_type": "code",
   "execution_count": 36,
   "id": "c5adb4e5",
   "metadata": {},
   "outputs": [
    {
     "name": "stdout",
     "output_type": "stream",
     "text": [
      "Radius of object: 13\n",
      "Radius of object of after applying the method add_radius(2): 15\n",
      "Radius of object of after applying the method add_radius(5): 20\n"
     ]
    }
   ],
   "source": [
    "# Modificar el valor del radio\n",
    "print('Radius of object:',RedCircle.radius)\n",
    "RedCircle.add_radius(2)\n",
    "print('Radius of object of after applying the method add_radius(2):',RedCircle.radius)\n",
    "RedCircle.add_radius(5)\n",
    "print('Radius of object of after applying the method add_radius(5):',RedCircle.radius)"
   ]
  },
  {
   "cell_type": "code",
   "execution_count": 37,
   "id": "c6c153cb",
   "metadata": {},
   "outputs": [
    {
     "data": {
      "image/png": "[encoded data removed]",
      "text/plain": [
       "<Figure size 432x288 with 1 Axes>"
      ]
     },
     "metadata": {
      "needs_background": "light"
     },
     "output_type": "display_data"
    }
   ],
   "source": [
    "RedCircle.drawCircle()"
   ]
  },
  {
   "cell_type": "code",
   "execution_count": 41,
   "id": "646a37b8",
   "metadata": {},
   "outputs": [
    {
     "data": {
      "image/png": "[encoded data removed]",
      "text/plain": [
       "<Figure size 432x288 with 1 Axes>"
      ]
     },
     "metadata": {
      "needs_background": "light"
     },
     "output_type": "display_data"
    }
   ],
   "source": [
    "CirculoAzul=Circle(radius=10)\n",
    "CirculoAzul.radius\n",
    "CirculoAzul.color\n",
    "CirculoAzul.drawCircle()"
   ]
  },
  {
   "cell_type": "code",
   "execution_count": 77,
   "id": "a9fc6fa6",
   "metadata": {},
   "outputs": [],
   "source": [
    "#Ejemplos con rectangulos\n",
    "class Rectangulo(object):\n",
    "    def __init__(self, alto=2, ancho=3, color='r'):\n",
    "            self.alto=alto\n",
    "            self.ancho=ancho\n",
    "            self.color=color\n",
    "    def pintar (self):\n",
    "        plt.gca().add_patch(plt.Rectangle((0, 0), self.alto, self.ancho ,fc=self.color))\n",
    "        plt.axis('scaled')\n",
    "        plt.show()\n",
    "                "
   ]
  },
  {
   "cell_type": "code",
   "execution_count": 78,
   "id": "e69baa3c",
   "metadata": {},
   "outputs": [
    {
     "data": {
      "image/png": "[encoded data removed]",
      "text/plain": [
       "<Figure size 432x288 with 1 Axes>"
      ]
     },
     "metadata": {
      "needs_background": "light"
     },
     "output_type": "display_data"
    }
   ],
   "source": [
    "#creacion y dibujo del rectangulo\n",
    "RecRojo=Rectangulo(2,3,'blue')\n",
    "RecRojo.alto\n",
    "RecRojo.ancho\n",
    "RecRojo.alto\n",
    "RecRojo.pintar()"
   ]
  },
  {
   "cell_type": "code",
   "execution_count": 12,
   "id": "cff6754c",
   "metadata": {},
   "outputs": [
    {
     "name": "stdout",
     "output_type": "stream",
     "text": [
      "la casa está integrada por  3  cuartos 4  baños\n",
      "la casa está integrada por  8  cuartos 24  baños\n",
      "la casa está integrada por  9  cuartos 12  baños\n"
     ]
    }
   ],
   "source": [
    "#creamos un objeto clase que tiene 2 atributos y 1 metodo\n",
    "class casa (object):\n",
    "    def __init__ (self, cuartos, baños):\n",
    "        self.cuartos=cuartos\n",
    "        self.baños=baños\n",
    "        \n",
    "        #mustra como está integrada la casa\n",
    "        def integrada(self):\n",
    "        print (\"la casa está integrada por \",self.cuartos,\" cuartos\", self.baños,\" baños\")\n",
    "\n",
    "casaBog=casa(3,4)\n",
    "casaBog.integrada()\n",
    "casaArm=casa(8,24)\n",
    "casaArm.integrada()\n",
    "casaPer=casa(9,12)\n",
    "casaPer.integrada()\n",
    "    "
   ]
  }
 ],
 "metadata": {
  "kernelspec": {
   "display_name": "Python 3 (ipykernel)",
   "language": "python",
   "name": "python3"
  },
  "language_info": {
   "codemirror_mode": {
    "name": "ipython",
    "version": 3
   },
   "file_extension": ".py",
   "mimetype": "text/x-python",
   "name": "python",
   "nbconvert_exporter": "python",
   "pygments_lexer": "ipython3",
   "version": "3.9.7"
  }
 },
 "nbformat": 4,
 "nbformat_minor": 5
}

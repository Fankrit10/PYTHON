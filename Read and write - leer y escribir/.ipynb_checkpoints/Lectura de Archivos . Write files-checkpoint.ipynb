{
 "cells": [
  {
   "cell_type": "markdown",
   "id": "699b236a",
   "metadata": {},
   "source": [
    "Creado por Fabian Niño\n",
    "Lectura de Archivos en Python\n"
   ]
  },
  {
   "cell_type": "code",
   "execution_count": 10,
   "id": "3decac88",
   "metadata": {},
   "outputs": [
    {
     "name": "stdout",
     "output_type": "stream",
     "text": [
      "ejemplo.txt\n",
      "r\n",
      "<built-in method readlines of _io.TextIOWrapper object at 0x0000026FD03EBEE0>\n"
     ]
    }
   ],
   "source": [
    "Ejemplo = open(\"ejemplo.txt\",\"r\")\n",
    "print (Ejemplo.name)\n",
    "print (Ejemplo.mode)\n",
    "Ejemplo.read\n",
    "print (Ejemplo)"
   ]
  },
  {
   "cell_type": "code",
   "execution_count": null,
   "id": "24baf52d",
   "metadata": {},
   "outputs": [],
   "source": []
  }
 ],
 "metadata": {
  "kernelspec": {
   "display_name": "Python 3 (ipykernel)",
   "language": "python",
   "name": "python3"
  },
  "language_info": {
   "codemirror_mode": {
    "name": "ipython",
    "version": 3
   },
   "file_extension": ".py",
   "mimetype": "text/x-python",
   "name": "python",
   "nbconvert_exporter": "python",
   "pygments_lexer": "ipython3",
   "version": "3.9.7"
  }
 },
 "nbformat": 4,
 "nbformat_minor": 5
}

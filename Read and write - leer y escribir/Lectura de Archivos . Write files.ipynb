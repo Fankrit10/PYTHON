{
 "cells": [
  {
   "cell_type": "markdown",
   "id": "5b310721",
   "metadata": {},
   "source": [
    "Creado por Fabian Niño\n",
    "Lectura de Archivos en Python\n"
   ]
  },
  {
   "cell_type": "code",
   "execution_count": 35,
   "id": "4e626906",
   "metadata": {},
   "outputs": [
    {
     "name": "stdout",
     "output_type": "stream",
     "text": [
      "ejemplo1.txt\n",
      "r\n",
      "\n"
     ]
    },
    {
     "data": {
      "text/plain": [
       "<function TextIOWrapper.close()>"
      ]
     },
     "execution_count": 35,
     "metadata": {},
     "output_type": "execute_result"
    }
   ],
   "source": [
    "Ejemplo = open(\"ejemplo1.txt\",\"r\")\n",
    "print (Ejemplo.name)\n",
    "print (Ejemplo.mode)\n",
    "print (Ejemplo.read())\n",
    "Ejemplo.close"
   ]
  },
  {
   "cell_type": "code",
   "execution_count": 56,
   "id": "0776b36a",
   "metadata": {},
   "outputs": [
    {
     "name": "stdout",
     "output_type": "stream",
     "text": [
      "hola mundo\n"
     ]
    }
   ],
   "source": [
    "with open(\"Ejemplo2\", \"r\") as file1:\n",
    "    f=file1.readline()\n",
    "    print(f)"
   ]
  },
  {
   "cell_type": "code",
   "execution_count": 63,
   "id": "f79d4570",
   "metadata": {},
   "outputs": [
    {
     "name": "stdout",
     "output_type": "stream",
     "text": [
      "Iteration 0 :  Linea 1\n",
      "\n",
      "Iteration 1 :  Papa 2\n",
      "\n",
      "Iteration 2 :  Abuelo 3\n"
     ]
    }
   ],
   "source": [
    "with open(\"ejemplo1.txt\",\"r\") as file1:\n",
    "        i = 0;\n",
    "        for line in file1:\n",
    "            print(\"Iteration\", str(i), \": \", line)\n",
    "            i = i + 1"
   ]
  },
  {
   "cell_type": "code",
   "execution_count": 69,
   "id": "15e37f23",
   "metadata": {},
   "outputs": [
    {
     "name": "stdout",
     "output_type": "stream",
     "text": [
      "Iteration 0 :  Linea 1\n",
      "\n",
      "Papa 2\n",
      "\n"
     ]
    }
   ],
   "source": [
    "with open(\"ejemplo1.txt\",\"r\") as file1:\n",
    "        i = 0;\n",
    "        for line in file1:\n",
    "            print(\"Iteration\", str(i), \": \", line)\n",
    "            i = i + 1\n",
    "            cadena=file1.readlines()\n",
    "            print (cadena[0])\n",
    "\n"
   ]
  },
  {
   "cell_type": "code",
   "execution_count": null,
   "id": "807603b5",
   "metadata": {},
   "outputs": [],
   "source": [
    "#Aqui vamos solo a escribir archivos\n",
    "#Write files by Fabian"
   ]
  },
  {
   "cell_type": "code",
   "execution_count": 71,
   "id": "b3366ea5",
   "metadata": {},
   "outputs": [
    {
     "name": "stdout",
     "output_type": "stream",
     "text": [
      "['hola \\n', ' mundo']\n"
     ]
    }
   ],
   "source": [
    "with open(\"ejemplo de escribir.txt\",\"w\") as escribible:\n",
    "    escribible.write(\"hola \\n mundo\")\n",
    "\n",
    "with open(\"ejemplo de escribir.txt\",\"r\") as leible:\n",
    "    print (leible.readlines())"
   ]
  },
  {
   "cell_type": "code",
   "execution_count": 98,
   "id": "9ed48d1a",
   "metadata": {},
   "outputs": [
    {
     "name": "stdout",
     "output_type": "stream",
     "text": [
      "[]\n"
     ]
    }
   ],
   "source": [
    "with open(\"ejemplo de escribir.txt\",\"a+\") as escribible:\n",
    "    escribible.write(\"estoy/n mundo\")\n",
    "    print(escribible.readlines())\n",
    "\n",
    "    "
   ]
  },
  {
   "cell_type": "code",
   "execution_count": 100,
   "id": "65cf5366",
   "metadata": {},
   "outputs": [
    {
     "name": "stdout",
     "output_type": "stream",
     "text": [
      "7\n",
      "13\n",
      "12\n",
      "188\n"
     ]
    }
   ],
   "source": [
    "with open('ejemplo de escribir.txt','r') as readfile:\n",
    "    with open('copiar archivo.txt','w') as writefile:\n",
    "          for line in readfile:\n",
    "                print(writefile.write(line))"
   ]
  }
 ],
 "metadata": {
  "kernelspec": {
   "display_name": "Python 3 (ipykernel)",
   "language": "python",
   "name": "python3"
  },
  "language_info": {
   "codemirror_mode": {
    "name": "ipython",
    "version": 3
   },
   "file_extension": ".py",
   "mimetype": "text/x-python",
   "name": "python",
   "nbconvert_exporter": "python",
   "pygments_lexer": "ipython3",
   "version": "3.9.7"
  }
 },
 "nbformat": 4,
 "nbformat_minor": 5
}

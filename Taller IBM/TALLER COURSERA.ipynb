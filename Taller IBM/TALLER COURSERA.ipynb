{
 "cells": [
  {
   "cell_type": "markdown",
   "id": "522db346",
   "metadata": {},
   "source": [
    "<h1>My Jupyter Notebook on IBM Watson Studio</h1>\n"
   ]
  },
  {
   "cell_type": "markdown",
   "id": "9753daf8",
   "metadata": {},
   "source": [
    "**FABIAN ENRIQUE NIÑO NARVAEZ - COLOMBIA** <br>\n",
    "Enginner of system"
   ]
  },
  {
   "cell_type": "markdown",
   "id": "cf65d9ad",
   "metadata": {},
   "source": [
    "*Estoy interesado en ciencia de datos porque me gusta sacar las estadistics de mi empresa y así puedo tomar mejores decisiones a la hora de planear producciones*"
   ]
  },
  {
   "cell_type": "markdown",
   "id": "040e01fc",
   "metadata": {},
   "source": [
    "*Adicional como ingeniero de sistemas me llama la atención manejar volumenes altos de datos y analizarlos con herramientas estadisticas.*"
   ]
  },
  {
   "cell_type": "markdown",
   "id": "f0c484c6",
   "metadata": {},
   "source": [
    "<h3> Primea linea de saludo </h3> "
   ]
  },
  {
   "cell_type": "code",
   "execution_count": 3,
   "id": "8df88ce9",
   "metadata": {},
   "outputs": [
    {
     "name": "stdout",
     "output_type": "stream",
     "text": [
      "Hola, espero que este programa te ayude a mejorar\n"
     ]
    }
   ],
   "source": [
    "print (\"Hola, espero que este programa te ayude a mejorar\")"
   ]
  },
  {
   "cell_type": "markdown",
   "id": "9e2dfcbb",
   "metadata": {},
   "source": [
    "<h3> SUMA BÁSICA</h3> "
   ]
  },
  {
   "cell_type": "code",
   "execution_count": 4,
   "id": "82af632c",
   "metadata": {},
   "outputs": [
    {
     "data": {
      "text/plain": [
       "4"
      ]
     },
     "execution_count": 4,
     "metadata": {},
     "output_type": "execute_result"
    }
   ],
   "source": [
    "2+2"
   ]
  },
  {
   "cell_type": "markdown",
   "id": "646f954a",
   "metadata": {},
   "source": [
    "1. menú\n",
    "2. Programa\n",
    "3. Despedida"
   ]
  },
  {
   "cell_type": "markdown",
   "id": "356fd949",
   "metadata": {},
   "source": [
    "(http://www.google.com)"
   ]
  },
  {
   "cell_type": "markdown",
   "id": "c1ab2e80",
   "metadata": {},
   "source": [
    "   | | TABLA #  | 1    | 2   | 3   |\n",
    "|---:|:-------------|:-----------|:------|:------|\n",
    "| 1 | FABIAN  | NIÑO       | NARVAEZ   | O     |\n"
   ]
  },
  {
   "cell_type": "code",
   "execution_count": null,
   "id": "d1652759",
   "metadata": {},
   "outputs": [],
   "source": []
  }
 ],
 "metadata": {
  "kernelspec": {
   "display_name": "Python 3 (ipykernel)",
   "language": "python",
   "name": "python3"
  },
  "language_info": {
   "codemirror_mode": {
    "name": "ipython",
    "version": 3
   },
   "file_extension": ".py",
   "mimetype": "text/x-python",
   "name": "python",
   "nbconvert_exporter": "python",
   "pygments_lexer": "ipython3",
   "version": "3.9.7"
  }
 },
 "nbformat": 4,
 "nbformat_minor": 5
}

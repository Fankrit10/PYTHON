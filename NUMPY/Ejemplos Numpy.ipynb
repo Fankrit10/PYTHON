{
 "cells": [
  {
   "cell_type": "markdown",
   "id": "a6c9fcc9",
   "metadata": {},
   "source": [
    "Elaborado por Fabian Niño"
   ]
  },
  {
   "cell_type": "code",
   "execution_count": 10,
   "id": "9e55bae5",
   "metadata": {},
   "outputs": [
    {
     "data": {
      "text/plain": [
       "['hola', 1]"
      ]
     },
     "execution_count": 10,
     "metadata": {},
     "output_type": "execute_result"
    }
   ],
   "source": [
    "#Crear arreglo normal\n",
    "ejemplo=[\"hola\",1,\"mundo\",2]\n",
    "ejemplo[0:2]"
   ]
  },
  {
   "cell_type": "code",
   "execution_count": 12,
   "id": "17f3f62f",
   "metadata": {},
   "outputs": [
    {
     "data": {
      "text/plain": [
       "array(['numpy', '1'], dtype='<U11')"
      ]
     },
     "execution_count": 12,
     "metadata": {},
     "output_type": "execute_result"
    }
   ],
   "source": [
    "#crear e imprimir numpy array\n",
    "import numpy as np\n",
    "ejm=np.array([\"numpy\",1,\"ejemplos\",2])\n",
    "ejm[0:2]"
   ]
  },
  {
   "cell_type": "code",
   "execution_count": 14,
   "id": "8444a3d7",
   "metadata": {},
   "outputs": [
    {
     "name": "stdout",
     "output_type": "stream",
     "text": [
      "1.20.3\n"
     ]
    }
   ],
   "source": [
    "#Imprimirmos la versión del Numpy\n",
    "print(np.__version__)"
   ]
  },
  {
   "cell_type": "code",
   "execution_count": 15,
   "id": "69d7069c",
   "metadata": {},
   "outputs": [
    {
     "data": {
      "text/plain": [
       "module"
      ]
     },
     "execution_count": 15,
     "metadata": {},
     "output_type": "execute_result"
    }
   ],
   "source": [
    "#type\n",
    "type(np)"
   ]
  },
  {
   "cell_type": "code",
   "execution_count": 21,
   "id": "5586456d",
   "metadata": {},
   "outputs": [
    {
     "data": {
      "text/plain": [
       "numpy.dtype"
      ]
     },
     "execution_count": 21,
     "metadata": {},
     "output_type": "execute_result"
    }
   ],
   "source": [
    "np.dtype"
   ]
  },
  {
   "cell_type": "code",
   "execution_count": 22,
   "id": "2f32b15c",
   "metadata": {},
   "outputs": [
    {
     "data": {
      "text/plain": [
       "array(['numpy', '1', 'ejemplos', '2'], dtype='<U11')"
      ]
     },
     "execution_count": 22,
     "metadata": {},
     "output_type": "execute_result"
    }
   ],
   "source": [
    "ejm"
   ]
  },
  {
   "cell_type": "code",
   "execution_count": 27,
   "id": "56b4fa4e",
   "metadata": {},
   "outputs": [
    {
     "data": {
      "text/plain": [
       "array(['hola', 'mundo', 'ejemplos', '2'], dtype='<U11')"
      ]
     },
     "execution_count": 27,
     "metadata": {},
     "output_type": "execute_result"
    }
   ],
   "source": [
    "#Reemplazar\n",
    "ejm[0:2]=\"hola\",\"mundo\"\n",
    "ejm"
   ]
  },
  {
   "cell_type": "code",
   "execution_count": 28,
   "id": "ea11d388",
   "metadata": {},
   "outputs": [
    {
     "data": {
      "text/plain": [
       "(4,)"
      ]
     },
     "execution_count": 28,
     "metadata": {},
     "output_type": "execute_result"
    }
   ],
   "source": [
    "ejm.shape"
   ]
  },
  {
   "cell_type": "code",
   "execution_count": 29,
   "id": "26f24a41",
   "metadata": {},
   "outputs": [
    {
     "data": {
      "text/plain": [
       "1"
      ]
     },
     "execution_count": 29,
     "metadata": {},
     "output_type": "execute_result"
    }
   ],
   "source": [
    "ejm.ndim"
   ]
  },
  {
   "cell_type": "code",
   "execution_count": 30,
   "id": "2e5f20cb",
   "metadata": {},
   "outputs": [
    {
     "data": {
      "text/plain": [
       "4"
      ]
     },
     "execution_count": 30,
     "metadata": {},
     "output_type": "execute_result"
    }
   ],
   "source": [
    "ejm.size"
   ]
  },
  {
   "cell_type": "code",
   "execution_count": 35,
   "id": "22b8d647",
   "metadata": {},
   "outputs": [
    {
     "data": {
      "text/plain": [
       "<function ndarray.mean>"
      ]
     },
     "execution_count": 35,
     "metadata": {},
     "output_type": "execute_result"
    }
   ],
   "source": [
    "ejm.mean"
   ]
  },
  {
   "cell_type": "code",
   "execution_count": 36,
   "id": "70f43edc",
   "metadata": {},
   "outputs": [
    {
     "data": {
      "text/plain": [
       "<function ndarray.max>"
      ]
     },
     "execution_count": 36,
     "metadata": {},
     "output_type": "execute_result"
    }
   ],
   "source": [
    "ejm.max"
   ]
  },
  {
   "cell_type": "code",
   "execution_count": 38,
   "id": "4d8b3e7f",
   "metadata": {},
   "outputs": [
    {
     "data": {
      "text/plain": [
       "array([ 1,  6,  8, 35,  3])"
      ]
     },
     "execution_count": 38,
     "metadata": {},
     "output_type": "execute_result"
    }
   ],
   "source": [
    "arr=np.array([1,6,8,35,3])\n",
    "arr"
   ]
  },
  {
   "cell_type": "code",
   "execution_count": 40,
   "id": "558cca2c",
   "metadata": {},
   "outputs": [
    {
     "data": {
      "text/plain": [
       "35"
      ]
     },
     "execution_count": 40,
     "metadata": {},
     "output_type": "execute_result"
    }
   ],
   "source": [
    "arr.max()"
   ]
  },
  {
   "cell_type": "code",
   "execution_count": 41,
   "id": "16d4baa7",
   "metadata": {},
   "outputs": [
    {
     "data": {
      "text/plain": [
       "1"
      ]
     },
     "execution_count": 41,
     "metadata": {},
     "output_type": "execute_result"
    }
   ],
   "source": [
    "arr.min()"
   ]
  },
  {
   "cell_type": "code",
   "execution_count": 44,
   "id": "210cc23a",
   "metadata": {},
   "outputs": [
    {
     "data": {
      "text/plain": [
       "array([   45,    76, 34556,   345,   643])"
      ]
     },
     "execution_count": 44,
     "metadata": {},
     "output_type": "execute_result"
    }
   ],
   "source": [
    "arr2=np.array([45,76,34556,345,643])\n",
    "arr2"
   ]
  },
  {
   "cell_type": "code",
   "execution_count": 46,
   "id": "d344e66a",
   "metadata": {},
   "outputs": [
    {
     "data": {
      "text/plain": [
       "array([   46,    82, 34564,   380,   646])"
      ]
     },
     "execution_count": 46,
     "metadata": {},
     "output_type": "execute_result"
    }
   ],
   "source": [
    "#Suma de matrices\n",
    "arrsum=arr+arr2\n",
    "arrsum"
   ]
  },
  {
   "cell_type": "code",
   "execution_count": 47,
   "id": "39eb3b77",
   "metadata": {},
   "outputs": [
    {
     "data": {
      "text/plain": [
       "array([   -43,    -64, -34540,   -275,   -637])"
      ]
     },
     "execution_count": 47,
     "metadata": {},
     "output_type": "execute_result"
    }
   ],
   "source": [
    "#Resta de matrices\n",
    "arrsum=arr*2-arr2\n",
    "arrsum"
   ]
  },
  {
   "cell_type": "code",
   "execution_count": 49,
   "id": "0fd42803",
   "metadata": {},
   "outputs": [
    {
     "data": {
      "text/plain": [
       "array([   46,    82, 34564,   380,   646])"
      ]
     },
     "execution_count": 49,
     "metadata": {},
     "output_type": "execute_result"
    }
   ],
   "source": [
    "add=np.add(arr,arr2)\n",
    "add"
   ]
  },
  {
   "cell_type": "code",
   "execution_count": 54,
   "id": "46cf1d2d",
   "metadata": {},
   "outputs": [
    {
     "name": "stdout",
     "output_type": "stream",
     "text": [
      "[   -44    -70 -34548   -310   -640]\n"
     ]
    }
   ],
   "source": [
    "subtract=np.subtract(arr,arr2)\n",
    "print(subtract)"
   ]
  },
  {
   "cell_type": "code",
   "execution_count": 55,
   "id": "b9269316",
   "metadata": {},
   "outputs": [
    {
     "data": {
      "text/plain": [
       "array([    45,    456, 276448,  12075,   1929])"
      ]
     },
     "execution_count": 55,
     "metadata": {},
     "output_type": "execute_result"
    }
   ],
   "source": [
    "multiplicacion=arr*arr2\n",
    "multiplicacion"
   ]
  },
  {
   "cell_type": "code",
   "execution_count": 56,
   "id": "82c713ec",
   "metadata": {},
   "outputs": [
    {
     "data": {
      "text/plain": [
       "290953"
      ]
     },
     "execution_count": 56,
     "metadata": {},
     "output_type": "execute_result"
    }
   ],
   "source": [
    "x=np.dot(arr,arr2)\n",
    "x"
   ]
  },
  {
   "cell_type": "code",
   "execution_count": 57,
   "id": "ab0fe2ad",
   "metadata": {},
   "outputs": [
    {
     "data": {
      "text/plain": [
       "array([ 1,  6,  8, 35,  3])"
      ]
     },
     "execution_count": 57,
     "metadata": {},
     "output_type": "execute_result"
    }
   ],
   "source": [
    "arr"
   ]
  },
  {
   "cell_type": "code",
   "execution_count": 59,
   "id": "1b9eb7e0",
   "metadata": {},
   "outputs": [
    {
     "data": {
      "text/plain": [
       "array([11, 16, 18, 45, 13])"
      ]
     },
     "execution_count": 59,
     "metadata": {},
     "output_type": "execute_result"
    }
   ],
   "source": [
    "arr3=arr+10\n",
    "arr3"
   ]
  },
  {
   "cell_type": "code",
   "execution_count": 61,
   "id": "c23db18c",
   "metadata": {},
   "outputs": [
    {
     "data": {
      "text/plain": [
       "3.141592653589793"
      ]
     },
     "execution_count": 61,
     "metadata": {},
     "output_type": "execute_result"
    }
   ],
   "source": [
    "np.pi"
   ]
  },
  {
   "cell_type": "code",
   "execution_count": 62,
   "id": "8087bf34",
   "metadata": {},
   "outputs": [
    {
     "data": {
      "text/plain": [
       "array([ 0.84147098, -0.2794155 ,  0.98935825, -0.42818267,  0.14112001])"
      ]
     },
     "execution_count": 62,
     "metadata": {},
     "output_type": "execute_result"
    }
   ],
   "source": [
    "np.sin(arr)"
   ]
  },
  {
   "cell_type": "code",
   "execution_count": 63,
   "id": "8190adc4",
   "metadata": {},
   "outputs": [
    {
     "data": {
      "text/plain": [
       "array([-2., -1.,  0.,  1.,  2.])"
      ]
     },
     "execution_count": 63,
     "metadata": {},
     "output_type": "execute_result"
    }
   ],
   "source": [
    "np.linspace(-2, 2, num=5)"
   ]
  },
  {
   "cell_type": "code",
   "execution_count": null,
   "id": "204c253c",
   "metadata": {},
   "outputs": [],
   "source": []
  }
 ],
 "metadata": {
  "kernelspec": {
   "display_name": "Python 3 (ipykernel)",
   "language": "python",
   "name": "python3"
  },
  "language_info": {
   "codemirror_mode": {
    "name": "ipython",
    "version": 3
   },
   "file_extension": ".py",
   "mimetype": "text/x-python",
   "name": "python",
   "nbconvert_exporter": "python",
   "pygments_lexer": "ipython3",
   "version": "3.9.7"
  }
 },
 "nbformat": 4,
 "nbformat_minor": 5
}
